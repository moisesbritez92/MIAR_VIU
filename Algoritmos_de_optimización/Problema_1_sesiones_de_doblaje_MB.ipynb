{
  "cells": [
    {
      "cell_type": "markdown",
      "metadata": {
        "id": "hVbXYX-RfPWh"
      },
      "source": [
        "# Algoritmos de optimización - Problema 1<br>\n",
        "Nombre y Apellidos:  Moises Britez <br>\n",
        "Url: https://github.com/moisesbritez92/MIAR_VIU<br>\n",
        "Problema:\n",
        "> 1. Sesiones de doblaje <br>\n",
        "\n",
        "Descripción del problema:\n",
        "\n",
        "Se precisa coordinar el doblaje de una película. Los actores del doblaje deben coincidir en las\n",
        "tomas en las que sus personajes aparecen juntos en las diferentes tomas. Los actores de\n",
        "doblaje cobran todos la misma cantidad por cada día que deben desplazarse hasta el estudio de\n",
        "grabación independientemente del número de tomas que se graben. No es posible grabar más\n",
        "de 6 tomas por día. El objetivo es planificar las sesiones por día de manera que el gasto por los\n",
        "servicios de los actores de doblaje sea el menor posible.\n",
        "\n",
        "(*) La respuesta es obligatoria\n",
        "\n",
        "\n",
        "\n",
        "\n",
        "\n",
        "                                        "
      ]
    },
    {
      "cell_type": "code",
      "execution_count": 1,
      "metadata": {
        "id": "AiskKkzZfy4e"
      },
      "outputs": [
        {
          "data": {
            "text/html": [
              "<div>\n",
              "<style scoped>\n",
              "    .dataframe tbody tr th:only-of-type {\n",
              "        vertical-align: middle;\n",
              "    }\n",
              "\n",
              "    .dataframe tbody tr th {\n",
              "        vertical-align: top;\n",
              "    }\n",
              "\n",
              "    .dataframe thead th {\n",
              "        text-align: right;\n",
              "    }\n",
              "</style>\n",
              "<table border=\"1\" class=\"dataframe\">\n",
              "  <thead>\n",
              "    <tr style=\"text-align: right;\">\n",
              "      <th></th>\n",
              "      <th>Toma</th>\n",
              "      <th>1</th>\n",
              "      <th>2</th>\n",
              "      <th>3</th>\n",
              "      <th>4</th>\n",
              "      <th>5</th>\n",
              "      <th>6</th>\n",
              "      <th>7</th>\n",
              "      <th>8</th>\n",
              "      <th>9</th>\n",
              "      <th>10</th>\n",
              "    </tr>\n",
              "  </thead>\n",
              "  <tbody>\n",
              "    <tr>\n",
              "      <th>0</th>\n",
              "      <td>1</td>\n",
              "      <td>1</td>\n",
              "      <td>1</td>\n",
              "      <td>1</td>\n",
              "      <td>1</td>\n",
              "      <td>1</td>\n",
              "      <td>0</td>\n",
              "      <td>0</td>\n",
              "      <td>0</td>\n",
              "      <td>0</td>\n",
              "      <td>0</td>\n",
              "    </tr>\n",
              "    <tr>\n",
              "      <th>1</th>\n",
              "      <td>2</td>\n",
              "      <td>0</td>\n",
              "      <td>0</td>\n",
              "      <td>1</td>\n",
              "      <td>1</td>\n",
              "      <td>1</td>\n",
              "      <td>0</td>\n",
              "      <td>0</td>\n",
              "      <td>0</td>\n",
              "      <td>0</td>\n",
              "      <td>0</td>\n",
              "    </tr>\n",
              "    <tr>\n",
              "      <th>2</th>\n",
              "      <td>3</td>\n",
              "      <td>0</td>\n",
              "      <td>1</td>\n",
              "      <td>0</td>\n",
              "      <td>0</td>\n",
              "      <td>1</td>\n",
              "      <td>0</td>\n",
              "      <td>1</td>\n",
              "      <td>0</td>\n",
              "      <td>0</td>\n",
              "      <td>0</td>\n",
              "    </tr>\n",
              "    <tr>\n",
              "      <th>3</th>\n",
              "      <td>4</td>\n",
              "      <td>1</td>\n",
              "      <td>1</td>\n",
              "      <td>0</td>\n",
              "      <td>0</td>\n",
              "      <td>0</td>\n",
              "      <td>0</td>\n",
              "      <td>1</td>\n",
              "      <td>1</td>\n",
              "      <td>0</td>\n",
              "      <td>0</td>\n",
              "    </tr>\n",
              "    <tr>\n",
              "      <th>4</th>\n",
              "      <td>5</td>\n",
              "      <td>0</td>\n",
              "      <td>1</td>\n",
              "      <td>0</td>\n",
              "      <td>1</td>\n",
              "      <td>0</td>\n",
              "      <td>0</td>\n",
              "      <td>0</td>\n",
              "      <td>1</td>\n",
              "      <td>0</td>\n",
              "      <td>0</td>\n",
              "    </tr>\n",
              "    <tr>\n",
              "      <th>5</th>\n",
              "      <td>6</td>\n",
              "      <td>1</td>\n",
              "      <td>1</td>\n",
              "      <td>0</td>\n",
              "      <td>1</td>\n",
              "      <td>1</td>\n",
              "      <td>0</td>\n",
              "      <td>0</td>\n",
              "      <td>0</td>\n",
              "      <td>0</td>\n",
              "      <td>0</td>\n",
              "    </tr>\n",
              "    <tr>\n",
              "      <th>6</th>\n",
              "      <td>7</td>\n",
              "      <td>1</td>\n",
              "      <td>1</td>\n",
              "      <td>0</td>\n",
              "      <td>1</td>\n",
              "      <td>1</td>\n",
              "      <td>0</td>\n",
              "      <td>0</td>\n",
              "      <td>0</td>\n",
              "      <td>0</td>\n",
              "      <td>0</td>\n",
              "    </tr>\n",
              "    <tr>\n",
              "      <th>7</th>\n",
              "      <td>8</td>\n",
              "      <td>1</td>\n",
              "      <td>1</td>\n",
              "      <td>0</td>\n",
              "      <td>0</td>\n",
              "      <td>0</td>\n",
              "      <td>1</td>\n",
              "      <td>0</td>\n",
              "      <td>0</td>\n",
              "      <td>0</td>\n",
              "      <td>0</td>\n",
              "    </tr>\n",
              "    <tr>\n",
              "      <th>8</th>\n",
              "      <td>9</td>\n",
              "      <td>1</td>\n",
              "      <td>1</td>\n",
              "      <td>0</td>\n",
              "      <td>1</td>\n",
              "      <td>0</td>\n",
              "      <td>0</td>\n",
              "      <td>0</td>\n",
              "      <td>0</td>\n",
              "      <td>0</td>\n",
              "      <td>0</td>\n",
              "    </tr>\n",
              "    <tr>\n",
              "      <th>9</th>\n",
              "      <td>10</td>\n",
              "      <td>1</td>\n",
              "      <td>1</td>\n",
              "      <td>0</td>\n",
              "      <td>0</td>\n",
              "      <td>0</td>\n",
              "      <td>1</td>\n",
              "      <td>0</td>\n",
              "      <td>0</td>\n",
              "      <td>1</td>\n",
              "      <td>0</td>\n",
              "    </tr>\n",
              "    <tr>\n",
              "      <th>10</th>\n",
              "      <td>11</td>\n",
              "      <td>1</td>\n",
              "      <td>1</td>\n",
              "      <td>1</td>\n",
              "      <td>0</td>\n",
              "      <td>1</td>\n",
              "      <td>0</td>\n",
              "      <td>0</td>\n",
              "      <td>1</td>\n",
              "      <td>0</td>\n",
              "      <td>0</td>\n",
              "    </tr>\n",
              "    <tr>\n",
              "      <th>11</th>\n",
              "      <td>12</td>\n",
              "      <td>1</td>\n",
              "      <td>1</td>\n",
              "      <td>1</td>\n",
              "      <td>1</td>\n",
              "      <td>0</td>\n",
              "      <td>1</td>\n",
              "      <td>0</td>\n",
              "      <td>0</td>\n",
              "      <td>0</td>\n",
              "      <td>0</td>\n",
              "    </tr>\n",
              "    <tr>\n",
              "      <th>12</th>\n",
              "      <td>13</td>\n",
              "      <td>1</td>\n",
              "      <td>0</td>\n",
              "      <td>0</td>\n",
              "      <td>1</td>\n",
              "      <td>1</td>\n",
              "      <td>0</td>\n",
              "      <td>0</td>\n",
              "      <td>0</td>\n",
              "      <td>0</td>\n",
              "      <td>0</td>\n",
              "    </tr>\n",
              "    <tr>\n",
              "      <th>13</th>\n",
              "      <td>14</td>\n",
              "      <td>1</td>\n",
              "      <td>0</td>\n",
              "      <td>1</td>\n",
              "      <td>0</td>\n",
              "      <td>0</td>\n",
              "      <td>1</td>\n",
              "      <td>0</td>\n",
              "      <td>0</td>\n",
              "      <td>0</td>\n",
              "      <td>0</td>\n",
              "    </tr>\n",
              "    <tr>\n",
              "      <th>14</th>\n",
              "      <td>15</td>\n",
              "      <td>1</td>\n",
              "      <td>1</td>\n",
              "      <td>0</td>\n",
              "      <td>0</td>\n",
              "      <td>0</td>\n",
              "      <td>0</td>\n",
              "      <td>1</td>\n",
              "      <td>0</td>\n",
              "      <td>0</td>\n",
              "      <td>0</td>\n",
              "    </tr>\n",
              "    <tr>\n",
              "      <th>15</th>\n",
              "      <td>16</td>\n",
              "      <td>0</td>\n",
              "      <td>0</td>\n",
              "      <td>0</td>\n",
              "      <td>1</td>\n",
              "      <td>0</td>\n",
              "      <td>0</td>\n",
              "      <td>0</td>\n",
              "      <td>0</td>\n",
              "      <td>0</td>\n",
              "      <td>1</td>\n",
              "    </tr>\n",
              "    <tr>\n",
              "      <th>16</th>\n",
              "      <td>17</td>\n",
              "      <td>1</td>\n",
              "      <td>0</td>\n",
              "      <td>1</td>\n",
              "      <td>0</td>\n",
              "      <td>0</td>\n",
              "      <td>0</td>\n",
              "      <td>0</td>\n",
              "      <td>0</td>\n",
              "      <td>0</td>\n",
              "      <td>0</td>\n",
              "    </tr>\n",
              "    <tr>\n",
              "      <th>17</th>\n",
              "      <td>18</td>\n",
              "      <td>0</td>\n",
              "      <td>0</td>\n",
              "      <td>1</td>\n",
              "      <td>0</td>\n",
              "      <td>0</td>\n",
              "      <td>1</td>\n",
              "      <td>0</td>\n",
              "      <td>0</td>\n",
              "      <td>0</td>\n",
              "      <td>0</td>\n",
              "    </tr>\n",
              "    <tr>\n",
              "      <th>18</th>\n",
              "      <td>19</td>\n",
              "      <td>1</td>\n",
              "      <td>0</td>\n",
              "      <td>1</td>\n",
              "      <td>0</td>\n",
              "      <td>0</td>\n",
              "      <td>0</td>\n",
              "      <td>0</td>\n",
              "      <td>0</td>\n",
              "      <td>0</td>\n",
              "      <td>0</td>\n",
              "    </tr>\n",
              "    <tr>\n",
              "      <th>19</th>\n",
              "      <td>20</td>\n",
              "      <td>1</td>\n",
              "      <td>0</td>\n",
              "      <td>1</td>\n",
              "      <td>1</td>\n",
              "      <td>1</td>\n",
              "      <td>0</td>\n",
              "      <td>0</td>\n",
              "      <td>0</td>\n",
              "      <td>0</td>\n",
              "      <td>0</td>\n",
              "    </tr>\n",
              "    <tr>\n",
              "      <th>20</th>\n",
              "      <td>21</td>\n",
              "      <td>0</td>\n",
              "      <td>0</td>\n",
              "      <td>0</td>\n",
              "      <td>0</td>\n",
              "      <td>0</td>\n",
              "      <td>1</td>\n",
              "      <td>0</td>\n",
              "      <td>1</td>\n",
              "      <td>0</td>\n",
              "      <td>0</td>\n",
              "    </tr>\n",
              "    <tr>\n",
              "      <th>21</th>\n",
              "      <td>22</td>\n",
              "      <td>1</td>\n",
              "      <td>1</td>\n",
              "      <td>1</td>\n",
              "      <td>1</td>\n",
              "      <td>0</td>\n",
              "      <td>0</td>\n",
              "      <td>0</td>\n",
              "      <td>0</td>\n",
              "      <td>0</td>\n",
              "      <td>0</td>\n",
              "    </tr>\n",
              "    <tr>\n",
              "      <th>22</th>\n",
              "      <td>23</td>\n",
              "      <td>1</td>\n",
              "      <td>0</td>\n",
              "      <td>1</td>\n",
              "      <td>0</td>\n",
              "      <td>0</td>\n",
              "      <td>0</td>\n",
              "      <td>0</td>\n",
              "      <td>0</td>\n",
              "      <td>0</td>\n",
              "      <td>0</td>\n",
              "    </tr>\n",
              "    <tr>\n",
              "      <th>23</th>\n",
              "      <td>24</td>\n",
              "      <td>0</td>\n",
              "      <td>0</td>\n",
              "      <td>1</td>\n",
              "      <td>0</td>\n",
              "      <td>0</td>\n",
              "      <td>1</td>\n",
              "      <td>0</td>\n",
              "      <td>0</td>\n",
              "      <td>0</td>\n",
              "      <td>0</td>\n",
              "    </tr>\n",
              "    <tr>\n",
              "      <th>24</th>\n",
              "      <td>25</td>\n",
              "      <td>1</td>\n",
              "      <td>1</td>\n",
              "      <td>0</td>\n",
              "      <td>1</td>\n",
              "      <td>0</td>\n",
              "      <td>0</td>\n",
              "      <td>0</td>\n",
              "      <td>0</td>\n",
              "      <td>0</td>\n",
              "      <td>1</td>\n",
              "    </tr>\n",
              "    <tr>\n",
              "      <th>25</th>\n",
              "      <td>26</td>\n",
              "      <td>1</td>\n",
              "      <td>0</td>\n",
              "      <td>1</td>\n",
              "      <td>0</td>\n",
              "      <td>1</td>\n",
              "      <td>0</td>\n",
              "      <td>0</td>\n",
              "      <td>0</td>\n",
              "      <td>1</td>\n",
              "      <td>0</td>\n",
              "    </tr>\n",
              "    <tr>\n",
              "      <th>26</th>\n",
              "      <td>27</td>\n",
              "      <td>0</td>\n",
              "      <td>0</td>\n",
              "      <td>0</td>\n",
              "      <td>1</td>\n",
              "      <td>1</td>\n",
              "      <td>0</td>\n",
              "      <td>0</td>\n",
              "      <td>0</td>\n",
              "      <td>0</td>\n",
              "      <td>0</td>\n",
              "    </tr>\n",
              "    <tr>\n",
              "      <th>27</th>\n",
              "      <td>28</td>\n",
              "      <td>1</td>\n",
              "      <td>0</td>\n",
              "      <td>0</td>\n",
              "      <td>1</td>\n",
              "      <td>0</td>\n",
              "      <td>0</td>\n",
              "      <td>0</td>\n",
              "      <td>0</td>\n",
              "      <td>0</td>\n",
              "      <td>0</td>\n",
              "    </tr>\n",
              "    <tr>\n",
              "      <th>28</th>\n",
              "      <td>29</td>\n",
              "      <td>1</td>\n",
              "      <td>0</td>\n",
              "      <td>0</td>\n",
              "      <td>0</td>\n",
              "      <td>1</td>\n",
              "      <td>1</td>\n",
              "      <td>0</td>\n",
              "      <td>0</td>\n",
              "      <td>0</td>\n",
              "      <td>0</td>\n",
              "    </tr>\n",
              "    <tr>\n",
              "      <th>29</th>\n",
              "      <td>30</td>\n",
              "      <td>1</td>\n",
              "      <td>0</td>\n",
              "      <td>0</td>\n",
              "      <td>1</td>\n",
              "      <td>0</td>\n",
              "      <td>0</td>\n",
              "      <td>0</td>\n",
              "      <td>0</td>\n",
              "      <td>0</td>\n",
              "      <td>0</td>\n",
              "    </tr>\n",
              "  </tbody>\n",
              "</table>\n",
              "</div>"
            ],
            "text/plain": [
              "    Toma  1  2  3  4  5  6  7  8  9  10\n",
              "0      1  1  1  1  1  1  0  0  0  0   0\n",
              "1      2  0  0  1  1  1  0  0  0  0   0\n",
              "2      3  0  1  0  0  1  0  1  0  0   0\n",
              "3      4  1  1  0  0  0  0  1  1  0   0\n",
              "4      5  0  1  0  1  0  0  0  1  0   0\n",
              "5      6  1  1  0  1  1  0  0  0  0   0\n",
              "6      7  1  1  0  1  1  0  0  0  0   0\n",
              "7      8  1  1  0  0  0  1  0  0  0   0\n",
              "8      9  1  1  0  1  0  0  0  0  0   0\n",
              "9     10  1  1  0  0  0  1  0  0  1   0\n",
              "10    11  1  1  1  0  1  0  0  1  0   0\n",
              "11    12  1  1  1  1  0  1  0  0  0   0\n",
              "12    13  1  0  0  1  1  0  0  0  0   0\n",
              "13    14  1  0  1  0  0  1  0  0  0   0\n",
              "14    15  1  1  0  0  0  0  1  0  0   0\n",
              "15    16  0  0  0  1  0  0  0  0  0   1\n",
              "16    17  1  0  1  0  0  0  0  0  0   0\n",
              "17    18  0  0  1  0  0  1  0  0  0   0\n",
              "18    19  1  0  1  0  0  0  0  0  0   0\n",
              "19    20  1  0  1  1  1  0  0  0  0   0\n",
              "20    21  0  0  0  0  0  1  0  1  0   0\n",
              "21    22  1  1  1  1  0  0  0  0  0   0\n",
              "22    23  1  0  1  0  0  0  0  0  0   0\n",
              "23    24  0  0  1  0  0  1  0  0  0   0\n",
              "24    25  1  1  0  1  0  0  0  0  0   1\n",
              "25    26  1  0  1  0  1  0  0  0  1   0\n",
              "26    27  0  0  0  1  1  0  0  0  0   0\n",
              "27    28  1  0  0  1  0  0  0  0  0   0\n",
              "28    29  1  0  0  0  1  1  0  0  0   0\n",
              "29    30  1  0  0  1  0  0  0  0  0   0"
            ]
          },
          "execution_count": 1,
          "metadata": {},
          "output_type": "execute_result"
        }
      ],
      "source": [
        "import pandas as pd\n",
        "import numpy as np\n",
        "#Leemos el archivo Excel\n",
        "df = pd.read_excel(\"Datos.xlsx\")\n",
        "#Convertimos el DataFrame a un arreglo de NumPy\n",
        "arreglo = df[df.columns[1:11]]\n",
        "arreglo\n",
        "df"
      ]
    },
    {
      "cell_type": "markdown",
      "metadata": {},
      "source": [
        "Agrupamos tomas en bloques de 6 tomas por día (máximo).\n",
        "\n",
        "Para cada día, computamos cuántos actores participan en al menos una de esas tomas.\n",
        "\n",
        "Sumamos todos los días por los que cada actor debe cobrar."
      ]
    },
    {
      "cell_type": "code",
      "execution_count": 2,
      "metadata": {},
      "outputs": [
        {
          "name": "stdout",
          "output_type": "stream",
          "text": [
            "Costo total: 38 días trabajados\n"
          ]
        },
        {
          "data": {
            "text/html": [
              "<div>\n",
              "<style scoped>\n",
              "    .dataframe tbody tr th:only-of-type {\n",
              "        vertical-align: middle;\n",
              "    }\n",
              "\n",
              "    .dataframe tbody tr th {\n",
              "        vertical-align: top;\n",
              "    }\n",
              "\n",
              "    .dataframe thead th {\n",
              "        text-align: right;\n",
              "    }\n",
              "</style>\n",
              "<table border=\"1\" class=\"dataframe\">\n",
              "  <thead>\n",
              "    <tr style=\"text-align: right;\">\n",
              "      <th></th>\n",
              "      <th>Actor</th>\n",
              "      <th>Días trabajados</th>\n",
              "    </tr>\n",
              "  </thead>\n",
              "  <tbody>\n",
              "    <tr>\n",
              "      <th>1</th>\n",
              "      <td>1</td>\n",
              "      <td>5</td>\n",
              "    </tr>\n",
              "    <tr>\n",
              "      <th>2</th>\n",
              "      <td>2</td>\n",
              "      <td>5</td>\n",
              "    </tr>\n",
              "    <tr>\n",
              "      <th>3</th>\n",
              "      <td>3</td>\n",
              "      <td>5</td>\n",
              "    </tr>\n",
              "    <tr>\n",
              "      <th>4</th>\n",
              "      <td>4</td>\n",
              "      <td>5</td>\n",
              "    </tr>\n",
              "    <tr>\n",
              "      <th>5</th>\n",
              "      <td>5</td>\n",
              "      <td>5</td>\n",
              "    </tr>\n",
              "    <tr>\n",
              "      <th>6</th>\n",
              "      <td>6</td>\n",
              "      <td>4</td>\n",
              "    </tr>\n",
              "    <tr>\n",
              "      <th>7</th>\n",
              "      <td>7</td>\n",
              "      <td>2</td>\n",
              "    </tr>\n",
              "    <tr>\n",
              "      <th>8</th>\n",
              "      <td>8</td>\n",
              "      <td>3</td>\n",
              "    </tr>\n",
              "    <tr>\n",
              "      <th>9</th>\n",
              "      <td>9</td>\n",
              "      <td>2</td>\n",
              "    </tr>\n",
              "    <tr>\n",
              "      <th>10</th>\n",
              "      <td>10</td>\n",
              "      <td>2</td>\n",
              "    </tr>\n",
              "  </tbody>\n",
              "</table>\n",
              "</div>"
            ],
            "text/plain": [
              "    Actor  Días trabajados\n",
              "1       1                5\n",
              "2       2                5\n",
              "3       3                5\n",
              "4       4                5\n",
              "5       5                5\n",
              "6       6                4\n",
              "7       7                2\n",
              "8       8                3\n",
              "9       9                2\n",
              "10     10                2"
            ]
          },
          "execution_count": 2,
          "metadata": {},
          "output_type": "execute_result"
        }
      ],
      "source": [
        "# Número máximo de tomas por día\n",
        "MAX_TOMAS_POR_DIA = 6\n",
        "participacion = arreglo\n",
        "# Agrupar las tomas de 6 en 6\n",
        "dias = [participacion[i:i+MAX_TOMAS_POR_DIA] for i in range(0, len(participacion), MAX_TOMAS_POR_DIA)]\n",
        "\n",
        "# Calcular cuántos días trabaja cada actor\n",
        "actores_dias = np.zeros(participacion.shape[1], dtype=int)\n",
        "\n",
        "for dia in dias:\n",
        "    # Para cada actor, si participa en al menos una toma del día, se le paga ese día\n",
        "    actores_en_dia = np.any(dia, axis=0)  # vector booleano de tamaño 10\n",
        "    actores_dias += actores_en_dia.astype(int)\n",
        "\n",
        "# Costo total: suma de días trabajados por todos los actores\n",
        "costo_total = actores_dias.sum()\n",
        "print(f\"Costo total: {costo_total} días trabajados\")\n",
        "# Mostrar resumen de resultados\n",
        "resumen = pd.DataFrame({\n",
        "    \"Actor\": list(range(1, 11)),\n",
        "    \"Días trabajados\": actores_dias\n",
        "})\n",
        "\n",
        "resumen"
      ]
    },
    {
      "cell_type": "code",
      "execution_count": 3,
      "metadata": {},
      "outputs": [
        {
          "name": "stdout",
          "output_type": "stream",
          "text": [
            "   Actor  Días trabajados (heurística)\n",
            "0      1                             5\n",
            "1      2                             5\n",
            "2      3                             5\n",
            "3      4                             5\n",
            "4      5                             5\n",
            "5      6                             4\n",
            "6      7                             2\n",
            "7      8                             3\n",
            "8      9                             2\n",
            "9     10                             2\n",
            "\n",
            "Costo total de días trabajados: 38\n"
          ]
        }
      ],
      "source": [
        "import numpy as np\n",
        "import pandas as pd\n",
        "\n",
        "# Cargar los datos estructurados desde un archivo Excel previamente limpio\n",
        "df_nuevo = pd.read_excel(\"Datos.xlsx\")\n",
        "\n",
        "# Eliminamos la columna de identificación de tomas (\"Toma\")\n",
        "participacion = df_nuevo.drop(columns=[\"Toma\"]).values  # Matriz 30 x 10\n",
        "\n",
        "# Parámetro: número máximo de tomas por día\n",
        "MAX_TOMAS_POR_DIA = 6\n",
        "\n",
        "# Inicializamos dos listas:\n",
        "dias = []                # Cada elemento será una lista de índices de tomas para ese día\n",
        "actores_por_dia = []     # Cada elemento es un set de actores presentes en ese día\n",
        "\n",
        "# Recorremos cada toma por su índice y su vector de participación\n",
        "for idx, toma in enumerate(participacion):\n",
        "    colocada = False\n",
        "    actores_toma = set(np.nonzero(toma)[0])  # Actores que participan en esta toma\n",
        "\n",
        "    # Intentamos colocar esta toma en algún día ya existente\n",
        "    for i, dia in enumerate(dias):\n",
        "        if len(dia) < MAX_TOMAS_POR_DIA:\n",
        "            # Calculamos qué actores nuevos aparecerían si agregamos esta toma\n",
        "            nuevos_actores = actores_toma - actores_por_dia[i]\n",
        "\n",
        "            # Si no agregamos demasiados actores nuevos, colocamos la toma en este día\n",
        "            if len(nuevos_actores) <= 4:  # este umbral se puede ajustar\n",
        "                dias[i].append(idx)\n",
        "                actores_por_dia[i].update(actores_toma)\n",
        "                colocada = True\n",
        "                break\n",
        "\n",
        "    # Si no fue posible ubicarla en ningún día, se crea un nuevo día\n",
        "    if not colocada:\n",
        "        dias.append([idx])\n",
        "        actores_por_dia.append(actores_toma.copy())\n",
        "\n",
        "# Inicializamos el vector de días trabajados por cada actor\n",
        "dias_trabajados_heur = np.zeros(participacion.shape[1], dtype=int)\n",
        "\n",
        "# Recorremos la lista de actores por día, y sumamos un día a cada actor participante\n",
        "for actores_dia in actores_por_dia:\n",
        "    for actor in actores_dia:\n",
        "        dias_trabajados_heur[actor] += 1\n",
        "\n",
        "# Mostramos los resultados finales\n",
        "resumen = pd.DataFrame({\n",
        "    \"Actor\": list(range(1, 11)),\n",
        "    \"Días trabajados (heurística)\": dias_trabajados_heur\n",
        "})\n",
        "\n",
        "print(resumen)\n",
        "\n",
        "# Costo total: suma de todos los días pagados\n",
        "costo_total = dias_trabajados_heur.sum()\n",
        "print(f\"\\nCosto total de días trabajados: {costo_total}\")\n",
        "\n"
      ]
    },
    {
      "cell_type": "markdown",
      "metadata": {
        "id": "3_-exlrTgLd-"
      },
      "source": [
        "(*)¿Cuantas posibilidades hay sin tener en cuenta las restricciones?<br>\n",
        "\n",
        "\n",
        "\n",
        "¿Cuantas posibilidades hay teniendo en cuenta todas las restricciones.\n",
        "\n",
        "\n"
      ]
    },
    {
      "cell_type": "markdown",
      "metadata": {
        "id": "WfCUqJyKhPcw"
      },
      "source": [
        "Respuesta"
      ]
    },
    {
      "cell_type": "code",
      "execution_count": 4,
      "metadata": {
        "id": "iq6Fe32MgpDX"
      },
      "outputs": [
        {
          "data": {
            "text/plain": [
              "11423951396577720"
            ]
          },
          "execution_count": 4,
          "metadata": {},
          "output_type": "execute_result"
        }
      ],
      "source": [
        "import math\n",
        "\n",
        "total_posibilidades_sin_restricciones = math.factorial(30) // (math.factorial(6)**5 * math.factorial(5))\n",
        "total_posibilidades_sin_restricciones\n"
      ]
    },
    {
      "cell_type": "markdown",
      "metadata": {
        "id": "dzynfVJahHoY"
      },
      "source": [
        "Modelo para el espacio de soluciones<br>\n",
        "(*) ¿Cual es la estructura de datos que mejor se adapta al problema? Argumentalo.(Es posible que hayas elegido una al principio y veas la necesidad de cambiar, arguentalo)\n"
      ]
    },
    {
      "cell_type": "markdown",
      "metadata": {
        "id": "xFIJrOwKi2Ti"
      },
      "source": [
        "Respuesta"
      ]
    },
    {
      "cell_type": "code",
      "execution_count": null,
      "metadata": {
        "id": "38c-7-ejhJmA"
      },
      "outputs": [],
      "source": []
    },
    {
      "cell_type": "markdown",
      "metadata": {
        "id": "7Z9U2W7bi-XS"
      },
      "source": [
        "Según el modelo para el espacio de soluciones<br>\n",
        "(*)¿Cual es la función objetivo?\n",
        "\n",
        "(*)¿Es un problema de maximización o minimización?"
      ]
    },
    {
      "cell_type": "markdown",
      "metadata": {
        "id": "hBalWLM7j1_d"
      },
      "source": [
        "Respuesta"
      ]
    },
    {
      "cell_type": "code",
      "execution_count": null,
      "metadata": {
        "id": "pDA-rg3Gj5Lz"
      },
      "outputs": [],
      "source": []
    },
    {
      "cell_type": "markdown",
      "metadata": {
        "id": "rlnTYgY1j6I2"
      },
      "source": [
        "Diseña un algoritmo para resolver el problema por fuerza bruta"
      ]
    },
    {
      "cell_type": "markdown",
      "metadata": {
        "id": "70rDgxYXkC8r"
      },
      "source": [
        "Respuesta"
      ]
    },
    {
      "cell_type": "code",
      "execution_count": null,
      "metadata": {
        "id": "CJb5sQ0qkENy"
      },
      "outputs": [],
      "source": []
    },
    {
      "cell_type": "markdown",
      "metadata": {
        "id": "tgrnsC2nkFa8"
      },
      "source": [
        "Calcula la complejidad del algoritmo por fuerza bruta"
      ]
    },
    {
      "cell_type": "markdown",
      "metadata": {
        "id": "9eUd3xwckP68"
      },
      "source": [
        "Respuesta"
      ]
    },
    {
      "cell_type": "code",
      "execution_count": null,
      "metadata": {
        "id": "rvZWwL-ckRST"
      },
      "outputs": [],
      "source": []
    },
    {
      "cell_type": "markdown",
      "metadata": {
        "id": "txbrmLmskReM"
      },
      "source": [
        "(*)Diseña un algoritmo que mejore la complejidad del algortimo por fuerza bruta. Argumenta porque crees que mejora el algoritmo por fuerza bruta"
      ]
    },
    {
      "cell_type": "markdown",
      "metadata": {
        "id": "hLrVwt5QkZPD"
      },
      "source": [
        "Respuesta"
      ]
    },
    {
      "cell_type": "code",
      "execution_count": null,
      "metadata": {
        "id": "m1eyM21Vkabg"
      },
      "outputs": [],
      "source": []
    },
    {
      "cell_type": "markdown",
      "metadata": {
        "id": "eGDB4K6uk1iN"
      },
      "source": [
        "(*)Calcula la complejidad del algoritmo"
      ]
    },
    {
      "cell_type": "markdown",
      "metadata": {
        "id": "NhpTh_BPk1ms"
      },
      "source": [
        "Respuesta"
      ]
    },
    {
      "cell_type": "code",
      "execution_count": null,
      "metadata": {
        "id": "nREzhkStlCq8"
      },
      "outputs": [],
      "source": []
    },
    {
      "cell_type": "markdown",
      "metadata": {
        "id": "3M6QjTsSkmYe"
      },
      "source": [
        "Según el problema (y tenga sentido), diseña un juego de datos de entrada aleatorios"
      ]
    },
    {
      "cell_type": "markdown",
      "metadata": {
        "id": "Jc3_OlyNkvjZ"
      },
      "source": [
        "Respuesta"
      ]
    },
    {
      "cell_type": "code",
      "execution_count": null,
      "metadata": {
        "id": "sJ-N2etjkyWc"
      },
      "outputs": [],
      "source": []
    },
    {
      "cell_type": "markdown",
      "metadata": {
        "id": "zy5ZROmjlGo1"
      },
      "source": [
        "Aplica el algoritmo al juego de datos generado"
      ]
    },
    {
      "cell_type": "markdown",
      "metadata": {
        "id": "_Cmj-PVylMsa"
      },
      "source": [
        "Respuesta"
      ]
    },
    {
      "cell_type": "code",
      "execution_count": null,
      "metadata": {
        "id": "Jkx8GeiYlUz1"
      },
      "outputs": [],
      "source": []
    },
    {
      "cell_type": "markdown",
      "metadata": {
        "id": "eTFWUJQrtGcv"
      },
      "source": [
        "Enumera las referencias que has utilizado(si ha sido necesario) para llevar a cabo el trabajo"
      ]
    },
    {
      "cell_type": "markdown",
      "metadata": {
        "id": "YKQ_mRBttWsP"
      },
      "source": [
        "Respuesta"
      ]
    },
    {
      "cell_type": "markdown",
      "metadata": {
        "id": "kAkDPUyRtYyH"
      },
      "source": [
        "Describe brevemente las lineas de como crees que es posible avanzar en el estudio del problema. Ten en cuenta incluso posibles variaciones del problema y/o variaciones al alza del tamaño"
      ]
    },
    {
      "cell_type": "markdown",
      "metadata": {
        "id": "IE0uZmo-tZu-"
      },
      "source": [
        "Respuesta"
      ]
    }
  ],
  "metadata": {
    "colab": {
      "provenance": []
    },
    "kernelspec": {
      "display_name": "Python 3",
      "name": "python3"
    },
    "language_info": {
      "codemirror_mode": {
        "name": "ipython",
        "version": 3
      },
      "file_extension": ".py",
      "mimetype": "text/x-python",
      "name": "python",
      "nbconvert_exporter": "python",
      "pygments_lexer": "ipython3",
      "version": "3.11.9"
    }
  },
  "nbformat": 4,
  "nbformat_minor": 0
}
